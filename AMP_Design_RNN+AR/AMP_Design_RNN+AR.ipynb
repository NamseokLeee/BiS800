{
  "nbformat": 4,
  "nbformat_minor": 0,
  "metadata": {
    "colab": {
      "provenance": [],
      "collapsed_sections": []
    },
    "kernelspec": {
      "name": "python3",
      "display_name": "Python 3"
    }
  },
  "cells": [
    {
      "cell_type": "markdown",
      "metadata": {
        "id": "0NsidgWPbW8h"
      },
      "source": [
        "# **AMP Design using RNN / AR**\n"
      ]
    },
    {
      "cell_type": "code",
      "metadata": {
        "id": "rlXoDpz6sPQo"
      },
      "source": [
        "import tensorflow as tf\n",
        "from tensorflow.keras import layers\n",
        "import numpy as np\n",
        "import os"
      ],
      "execution_count": null,
      "outputs": []
    },
    {
      "cell_type": "code",
      "metadata": {
        "id": "jhm2MmRDCGI1"
      },
      "source": [
        "\"\"\"\n",
        "Import AMP dataset from https://github.com/alexarnimueller/LSTM_peptides.\n",
        "Peptides are of various lengths so max/min length is recorded.\n",
        "\"\"\"\n",
        "\n",
        "text = open('training_sequences_noC.csv')\n",
        "sequences=[]\n",
        "for line in text:\n",
        "   sequences.append(line.strip())\n",
        "\n",
        "maxLength = max(set(len(i) for i in sequences))\n",
        "minLength = min(set(len(i) for i in sequences))"
      ],
      "execution_count": null,
      "outputs": []
    },
    {
      "cell_type": "code",
      "metadata": {
        "id": "0rYkxs3mc9Ya",
        "outputId": "6f3bd53c-e43d-4e74-903f-fc850b707c85",
        "colab": {
          "base_uri": "https://localhost:8080/",
          "height": 35
        }
      },
      "source": [
        "\"\"\"\n",
        "The dictionary code2idx translates residues to numbers.\n",
        "The list idx2code translates the reverse.\n",
        "With these functions, peptides are translated into matrices.\n",
        "\"\"\"\n",
        "\n",
        "vocab = ['A', 'B', 'C', 'D', 'E', 'F', 'G', 'H', 'I', 'K', 'L', 'M', 'N', 'P', 'Q', 'R', 'S', 'T', 'V', 'W', 'Y', ' ']\n",
        "code2idx = {u:i for i,u in enumerate(vocab)}\n",
        "idx2code = np.array(vocab)\n",
        "\n",
        "intseq=[]\n",
        "for i in sequences:\n",
        "   a=[]\n",
        "   for c in i:\n",
        "      a.append(code2idx[c])\n",
        "   for j in range(maxLength-len(i)):\n",
        "      a.append(code2idx[' '])\n",
        "   intseq.append(a)\n",
        "intseq = np.array(intseq)\n",
        "\n",
        "print(intseq.shape)"
      ],
      "execution_count": null,
      "outputs": [
        {
          "output_type": "stream",
          "text": [
            "(1554, 48)\n"
          ],
          "name": "stdout"
        }
      ]
    },
    {
      "cell_type": "code",
      "metadata": {
        "id": "pwSkagOvizIL",
        "outputId": "0a320f74-55fb-4619-eae4-73986ca3b9f4",
        "colab": {
          "base_uri": "https://localhost:8080/",
          "height": 53
        }
      },
      "source": [
        "\"\"\"\n",
        "Preparing training dataset and target values for the RNN.\n",
        "Target values are simply the training data shifted one slot to the right.\n",
        "\"\"\"\n",
        "\n",
        "trainData=intseq[:,:-1]\n",
        "targetData=intseq[:,1:]\n",
        "print(trainData.shape)\n",
        "print(targetData.shape)"
      ],
      "execution_count": null,
      "outputs": [
        {
          "output_type": "stream",
          "text": [
            "(1554, 47)\n",
            "(1554, 47)\n"
          ],
          "name": "stdout"
        }
      ]
    },
    {
      "cell_type": "markdown",
      "metadata": {
        "id": "3CUYIde_bkwy"
      },
      "source": [
        "## **RNN Design**"
      ]
    },
    {
      "cell_type": "code",
      "metadata": {
        "id": "lK2r8c7XjAAx",
        "outputId": "d938c773-97bd-4521-8a81-fb253edfa9c4",
        "colab": {
          "base_uri": "https://localhost:8080/",
          "height": 53
        }
      },
      "source": [
        "\"\"\"\n",
        "Defining various training parameters.\n",
        "Batch size is set to 64, and since RNN cannot train on an incomplete batch, \n",
        "the last 18 instances are dropped out from training.\n",
        "\"\"\"\n",
        "\n",
        "vocab_size = len(vocab)\n",
        "\n",
        "embedding_dim = 16\n",
        "\n",
        "rnn_units = 256\n",
        "\n",
        "BATCH_SIZE = 64\n",
        "trainData=trainData[0:((len(trainData)//BATCH_SIZE)*BATCH_SIZE),]\n",
        "targetData=targetData[0:((len(targetData)//BATCH_SIZE)*BATCH_SIZE),]\n",
        "print(trainData.shape)\n",
        "print(targetData.shape)"
      ],
      "execution_count": null,
      "outputs": [
        {
          "output_type": "stream",
          "text": [
            "(1536, 47)\n",
            "(1536, 47)\n"
          ],
          "name": "stdout"
        }
      ]
    },
    {
      "cell_type": "code",
      "metadata": {
        "id": "F1dmQ62iid-l"
      },
      "source": [
        "\"\"\"\n",
        "Function generating an RNN model.\n",
        "\"\"\"\n",
        "\n",
        "def build_model(vocab_size, embedding_dim, rnn_units, batch_size):\n",
        "  model = tf.keras.Sequential([\n",
        "    tf.keras.layers.Embedding(vocab_size, embedding_dim, batch_input_shape=[batch_size, None]),\n",
        "    tf.keras.layers.GRU(rnn_units,\n",
        "                        return_sequences=True,\n",
        "                        stateful=True,\n",
        "                        recurrent_initializer='glorot_uniform'),\n",
        "    tf.keras.layers.GRU(rnn_units,\n",
        "                        return_sequences=True,\n",
        "                        stateful=True,\n",
        "                        recurrent_initializer='glorot_uniform'),\n",
        "    tf.keras.layers.Dense(vocab_size)\n",
        "  ])\n",
        "  return model"
      ],
      "execution_count": null,
      "outputs": []
    },
    {
      "cell_type": "code",
      "metadata": {
        "id": "xkNN-sKgifbp",
        "colab": {
          "base_uri": "https://localhost:8080/",
          "height": 305
        },
        "outputId": "1feacf40-7140-4e0d-bda6-df5545766e0d"
      },
      "source": [
        "\"\"\"\n",
        "RNN model is built.\n",
        "\"\"\"\n",
        "\n",
        "model = build_model(vocab_size = len(vocab), embedding_dim=embedding_dim, rnn_units=rnn_units, batch_size=BATCH_SIZE)\n",
        "model.summary()"
      ],
      "execution_count": null,
      "outputs": [
        {
          "output_type": "stream",
          "text": [
            "Model: \"sequential_3\"\n",
            "_________________________________________________________________\n",
            "Layer (type)                 Output Shape              Param #   \n",
            "=================================================================\n",
            "embedding_3 (Embedding)      (64, None, 16)            352       \n",
            "_________________________________________________________________\n",
            "gru_2 (GRU)                  (64, None, 256)           210432    \n",
            "_________________________________________________________________\n",
            "gru_3 (GRU)                  (64, None, 256)           394752    \n",
            "_________________________________________________________________\n",
            "dense_3 (Dense)              (64, None, 22)            5654      \n",
            "=================================================================\n",
            "Total params: 611,190\n",
            "Trainable params: 611,190\n",
            "Non-trainable params: 0\n",
            "_________________________________________________________________\n"
          ],
          "name": "stdout"
        }
      ]
    },
    {
      "cell_type": "code",
      "metadata": {
        "id": "B0Xg-MCzkOiJ"
      },
      "source": [
        "\"\"\"\n",
        "Compiling the model and preparing for training.\n",
        "\"\"\"\n",
        "\n",
        "def loss(labels, logits):\n",
        "  return tf.keras.losses.sparse_categorical_crossentropy(labels, logits, from_logits=True)\n",
        "model.compile(optimizer='adam', loss=loss)\n",
        "\n",
        "checkpoint_dir = './training_checkpoints'\n",
        "checkpoint_prefix = os.path.join(checkpoint_dir, \"ckpt_{epoch}\")\n",
        "\n",
        "checkpoint_callback=tf.keras.callbacks.ModelCheckpoint(\n",
        "    filepath=checkpoint_prefix,\n",
        "    save_weights_only=True)"
      ],
      "execution_count": null,
      "outputs": []
    },
    {
      "cell_type": "code",
      "metadata": {
        "id": "hUXaBttYkjnh",
        "outputId": "405b46b6-ad3e-4c80-84fb-9d2b7fda449e",
        "colab": {
          "base_uri": "https://localhost:8080/",
          "height": 1000
        }
      },
      "source": [
        "\"\"\"\n",
        "Training the model.\n",
        "1536/64 = 24 batches exist in total, and 3(12.5%) of them are used for validation.\n",
        "EarlyStopping prevents overfitting.\n",
        "\"\"\"\n",
        "earlyStopping = tf.keras.callbacks.EarlyStopping(monitor='val_loss', patience=3, verbose=0, mode='auto')\n",
        "\n",
        "history = model.fit(x=trainData, y=targetData, batch_size=64, epochs=200, validation_split = 0.125, callbacks=[checkpoint_callback, earlyStopping])"
      ],
      "execution_count": null,
      "outputs": [
        {
          "output_type": "stream",
          "text": [
            "Epoch 1/200\n",
            "21/21 [==============================] - 7s 347ms/step - loss: 0.5032 - val_loss: 0.5984\n",
            "Epoch 2/200\n",
            "21/21 [==============================] - 7s 346ms/step - loss: 0.4886 - val_loss: 0.5908\n",
            "Epoch 3/200\n",
            "21/21 [==============================] - 7s 350ms/step - loss: 0.4770 - val_loss: 0.5894\n",
            "Epoch 4/200\n",
            "21/21 [==============================] - 7s 347ms/step - loss: 0.4697 - val_loss: 0.5869\n",
            "Epoch 5/200\n",
            "21/21 [==============================] - 7s 347ms/step - loss: 0.4614 - val_loss: 0.5835\n",
            "Epoch 6/200\n",
            "21/21 [==============================] - 8s 361ms/step - loss: 0.4494 - val_loss: 0.5699\n",
            "Epoch 7/200\n",
            "21/21 [==============================] - 7s 343ms/step - loss: 0.4379 - val_loss: 0.5728\n",
            "Epoch 8/200\n",
            "21/21 [==============================] - 7s 342ms/step - loss: 0.4264 - val_loss: 0.5634\n",
            "Epoch 9/200\n",
            "21/21 [==============================] - 7s 341ms/step - loss: 0.4143 - val_loss: 0.5624\n",
            "Epoch 10/200\n",
            "21/21 [==============================] - 7s 342ms/step - loss: 0.4057 - val_loss: 0.5554\n",
            "Epoch 11/200\n",
            "21/21 [==============================] - 7s 344ms/step - loss: 0.3954 - val_loss: 0.5553\n",
            "Epoch 12/200\n",
            "21/21 [==============================] - 7s 343ms/step - loss: 0.3856 - val_loss: 0.5508\n",
            "Epoch 13/200\n",
            "21/21 [==============================] - 7s 346ms/step - loss: 0.3797 - val_loss: 0.5477\n",
            "Epoch 14/200\n",
            "21/21 [==============================] - 7s 342ms/step - loss: 0.3655 - val_loss: 0.5478\n",
            "Epoch 15/200\n",
            "21/21 [==============================] - 7s 341ms/step - loss: 0.3570 - val_loss: 0.5424\n",
            "Epoch 16/200\n",
            "21/21 [==============================] - 7s 341ms/step - loss: 0.3484 - val_loss: 0.5384\n",
            "Epoch 17/200\n",
            "21/21 [==============================] - 7s 340ms/step - loss: 0.3378 - val_loss: 0.5341\n",
            "Epoch 18/200\n",
            "21/21 [==============================] - 7s 341ms/step - loss: 0.3359 - val_loss: 0.5355\n",
            "Epoch 19/200\n",
            "21/21 [==============================] - 7s 344ms/step - loss: 0.3291 - val_loss: 0.5354\n",
            "Epoch 20/200\n",
            "21/21 [==============================] - 7s 342ms/step - loss: 0.3178 - val_loss: 0.5338\n",
            "Epoch 21/200\n",
            "21/21 [==============================] - 7s 343ms/step - loss: 0.3114 - val_loss: 0.5290\n",
            "Epoch 22/200\n",
            "21/21 [==============================] - 7s 341ms/step - loss: 0.3005 - val_loss: 0.5314\n",
            "Epoch 23/200\n",
            "21/21 [==============================] - 7s 343ms/step - loss: 0.2922 - val_loss: 0.5288\n",
            "Epoch 24/200\n",
            "21/21 [==============================] - 7s 343ms/step - loss: 0.2896 - val_loss: 0.5259\n",
            "Epoch 25/200\n",
            "21/21 [==============================] - 7s 341ms/step - loss: 0.2819 - val_loss: 0.5258\n",
            "Epoch 26/200\n",
            "21/21 [==============================] - 7s 341ms/step - loss: 0.2771 - val_loss: 0.5253\n",
            "Epoch 27/200\n",
            "21/21 [==============================] - 7s 340ms/step - loss: 0.2704 - val_loss: 0.5351\n",
            "Epoch 28/200\n",
            "21/21 [==============================] - 7s 340ms/step - loss: 0.2653 - val_loss: 0.5321\n",
            "Epoch 29/200\n",
            "21/21 [==============================] - 7s 343ms/step - loss: 0.2607 - val_loss: 0.5246\n",
            "Epoch 30/200\n",
            "21/21 [==============================] - 7s 340ms/step - loss: 0.2529 - val_loss: 0.5332\n",
            "Epoch 31/200\n",
            "21/21 [==============================] - 8s 384ms/step - loss: 0.2481 - val_loss: 0.5249\n",
            "Epoch 32/200\n",
            "21/21 [==============================] - 10s 491ms/step - loss: 0.2403 - val_loss: 0.5244\n",
            "Epoch 33/200\n",
            "21/21 [==============================] - 7s 342ms/step - loss: 0.2366 - val_loss: 0.5236\n",
            "Epoch 34/200\n",
            "21/21 [==============================] - 7s 342ms/step - loss: 0.2331 - val_loss: 0.5279\n",
            "Epoch 35/200\n",
            "21/21 [==============================] - 7s 341ms/step - loss: 0.2286 - val_loss: 0.5354\n",
            "Epoch 36/200\n",
            "21/21 [==============================] - 7s 347ms/step - loss: 0.2230 - val_loss: 0.5240\n"
          ],
          "name": "stdout"
        }
      ]
    },
    {
      "cell_type": "code",
      "metadata": {
        "id": "Vg6yVq1fnoOj",
        "colab": {
          "base_uri": "https://localhost:8080/",
          "height": 323
        },
        "outputId": "0692ec14-fc81-4bc4-9620-192ec1760cc9"
      },
      "source": [
        "\"\"\"\n",
        "Based on the weights of the trained model, build a generating model that outputs a peptide residue.\n",
        "\"\"\"\n",
        "\n",
        "print(tf.train.latest_checkpoint(checkpoint_dir))\n",
        "\n",
        "Genmodel = build_model(vocab_size, embedding_dim, rnn_units, batch_size=1)\n",
        "Genmodel.load_weights(tf.train.latest_checkpoint(checkpoint_dir))\n",
        "Genmodel.build(tf.TensorShape([1, None]))\n",
        "\n",
        "Genmodel.summary()"
      ],
      "execution_count": null,
      "outputs": [
        {
          "output_type": "stream",
          "text": [
            "./training_checkpoints/ckpt_36\n",
            "Model: \"sequential_4\"\n",
            "_________________________________________________________________\n",
            "Layer (type)                 Output Shape              Param #   \n",
            "=================================================================\n",
            "embedding_4 (Embedding)      (1, None, 16)             352       \n",
            "_________________________________________________________________\n",
            "gru_4 (GRU)                  (1, None, 256)            210432    \n",
            "_________________________________________________________________\n",
            "gru_5 (GRU)                  (1, None, 256)            394752    \n",
            "_________________________________________________________________\n",
            "dense_4 (Dense)              (1, None, 22)             5654      \n",
            "=================================================================\n",
            "Total params: 611,190\n",
            "Trainable params: 611,190\n",
            "Non-trainable params: 0\n",
            "_________________________________________________________________\n"
          ],
          "name": "stdout"
        }
      ]
    },
    {
      "cell_type": "code",
      "metadata": {
        "id": "ilSk6Q388KJb"
      },
      "source": [
        "\"\"\"\n",
        "generate_prot function produces a peptide sequence based on the generator model.\n",
        "The revursive function produces sequences of length between 7 and 49 residues.\n",
        "\n",
        "Temperature value controls degree of randomness of the sequence residues,\n",
        "\n",
        "\"\"\"\n",
        "\n",
        "def generate_prot(model, start_string, Temperature):\n",
        "  \n",
        "  num_generate = (maxLength+1)\n",
        "  text_generated = []\n",
        "\n",
        "  input_eval = [code2idx[s] for s in start_string]\n",
        "  input_eval = tf.expand_dims(input_eval, 0)\n",
        "\n",
        "  temperature = Temperature\n",
        "\n",
        "  model.reset_states()\n",
        "  for i in range(num_generate):\n",
        "      predictions = model(input_eval)\n",
        "      predictions = tf.squeeze(predictions, 0)\n",
        "\n",
        "      # categorical distribution을 사용하여 return할 알파벳을 결정합니다.\n",
        "      predictions = predictions / temperature\n",
        "      predicted_id = tf.random.categorical(predictions, num_samples=1)[-1,0].numpy()\n",
        "      input_eval = tf.expand_dims([predicted_id], 0)\n",
        "      if idx2code[predicted_id] == ' ':\n",
        "          break\n",
        "\n",
        "      text_generated.append(idx2code[predicted_id])\n",
        "\n",
        "  if len(text_generated) < (maxLength+1):\n",
        "      if len(text_generated) > (minLength-1):\n",
        "          return (''.join(text_generated))\n",
        "      else:\n",
        "          return generate_prot(model, start_string, Temperature)\n",
        "  else:\n",
        "      return generate_prot(model, start_string, Temperature)\n",
        "      "
      ],
      "execution_count": null,
      "outputs": []
    },
    {
      "cell_type": "code",
      "metadata": {
        "id": "IsHPA24yBkCR",
        "outputId": "4524b4ab-b921-4215-c3fe-e312f4be93ac",
        "colab": {
          "base_uri": "https://localhost:8080/",
          "height": 35
        }
      },
      "source": [
        "\"\"\"\n",
        "residue 'B' is used to indicate start of a new peptide sequence.\n",
        "\"\"\"\n",
        "\n",
        "print(generate_prot(Genmodel, start_string=\"B\", Temperature=1))"
      ],
      "execution_count": null,
      "outputs": [
        {
          "output_type": "stream",
          "text": [
            "GMLKGVAKVLAFGVAN\n"
          ],
          "name": "stdout"
        }
      ]
    },
    {
      "cell_type": "markdown",
      "metadata": {
        "id": "cZQNvqRsb5H7"
      },
      "source": [
        "## **AuroRegression Design**"
      ]
    },
    {
      "cell_type": "code",
      "metadata": {
        "id": "ub8QHHKqzeNO",
        "colab": {
          "base_uri": "https://localhost:8080/",
          "height": 305
        },
        "outputId": "67c1a4ad-0b2e-42ca-d7eb-472aa911b34a"
      },
      "source": [
        "\"\"\"\n",
        "Function building an autoregression model.\n",
        "Conv1D function with padding='causal' is used.\n",
        "\"\"\"\n",
        "\n",
        "\n",
        "def build_model2 (vocab_size, embedding_dim):\n",
        "  model = tf.keras.Sequential([\n",
        "    layers.Embedding(vocab_size, embedding_dim),\n",
        "    layers.Conv1D(filters=128, kernel_size=48, strides=1, padding='causal'),\n",
        "    layers.Conv1D(filters=32, kernel_size=48, strides=1, padding='causal'),\n",
        "    layers.Dense(vocab_size)\n",
        "  ])\n",
        "  return model\n",
        "\n",
        "model2 = build_model2(vocab_size, embedding_dim)\n",
        "model2.summary()"
      ],
      "execution_count": null,
      "outputs": [
        {
          "output_type": "stream",
          "text": [
            "Model: \"sequential_5\"\n",
            "_________________________________________________________________\n",
            "Layer (type)                 Output Shape              Param #   \n",
            "=================================================================\n",
            "embedding_5 (Embedding)      (None, None, 16)          352       \n",
            "_________________________________________________________________\n",
            "conv1d_2 (Conv1D)            (None, None, 128)         98432     \n",
            "_________________________________________________________________\n",
            "conv1d_3 (Conv1D)            (None, None, 32)          196640    \n",
            "_________________________________________________________________\n",
            "dense_5 (Dense)              (None, None, 22)          726       \n",
            "=================================================================\n",
            "Total params: 296,150\n",
            "Trainable params: 296,150\n",
            "Non-trainable params: 0\n",
            "_________________________________________________________________\n"
          ],
          "name": "stdout"
        }
      ]
    },
    {
      "cell_type": "code",
      "metadata": {
        "id": "iE9rVTvXH0dV",
        "colab": {
          "base_uri": "https://localhost:8080/",
          "height": 1000
        },
        "outputId": "6995f6a0-b52b-4d5d-b4e9-d424e9be9618"
      },
      "source": [
        "\"\"\"\n",
        "Training the model using the same training and target data as RNN.\n",
        "\"\"\"\n",
        "\n",
        "def loss2(labels, logits):\n",
        "  return tf.keras.losses.sparse_categorical_crossentropy(labels, logits, from_logits=True)\n",
        "model2.compile(optimizer='adam', loss=loss2)\n",
        "\n",
        "earlyStopping2 = tf.keras.callbacks.EarlyStopping(monitor='val_loss', patience=3, verbose=0, mode='auto')\n",
        "\n",
        "history2 = model2.fit(x=trainData, y=targetData, epochs=50, validation_split = 0.125, callbacks=[earlyStopping2])"
      ],
      "execution_count": null,
      "outputs": [
        {
          "output_type": "stream",
          "text": [
            "Epoch 1/50\n",
            "42/42 [==============================] - 5s 112ms/step - loss: 1.7033 - val_loss: 1.3906\n",
            "Epoch 2/50\n",
            "42/42 [==============================] - 5s 115ms/step - loss: 1.3049 - val_loss: 1.2378\n",
            "Epoch 3/50\n",
            "42/42 [==============================] - 5s 110ms/step - loss: 1.1989 - val_loss: 1.1492\n",
            "Epoch 4/50\n",
            "42/42 [==============================] - 5s 111ms/step - loss: 1.1233 - val_loss: 1.0627\n",
            "Epoch 5/50\n",
            "42/42 [==============================] - 5s 111ms/step - loss: 1.0528 - val_loss: 1.0008\n",
            "Epoch 6/50\n",
            "42/42 [==============================] - 5s 110ms/step - loss: 1.0054 - val_loss: 0.9580\n",
            "Epoch 7/50\n",
            "42/42 [==============================] - 5s 111ms/step - loss: 0.9702 - val_loss: 0.9268\n",
            "Epoch 8/50\n",
            "42/42 [==============================] - 5s 110ms/step - loss: 0.9418 - val_loss: 0.9048\n",
            "Epoch 9/50\n",
            "42/42 [==============================] - 5s 110ms/step - loss: 0.9173 - val_loss: 0.8843\n",
            "Epoch 10/50\n",
            "42/42 [==============================] - 5s 110ms/step - loss: 0.8958 - val_loss: 0.8695\n",
            "Epoch 11/50\n",
            "42/42 [==============================] - 5s 112ms/step - loss: 0.8773 - val_loss: 0.8560\n",
            "Epoch 12/50\n",
            "42/42 [==============================] - 5s 110ms/step - loss: 0.8605 - val_loss: 0.8448\n",
            "Epoch 13/50\n",
            "42/42 [==============================] - 5s 111ms/step - loss: 0.8449 - val_loss: 0.8348\n",
            "Epoch 14/50\n",
            "42/42 [==============================] - 5s 111ms/step - loss: 0.8307 - val_loss: 0.8228\n",
            "Epoch 15/50\n",
            "42/42 [==============================] - 5s 111ms/step - loss: 0.8176 - val_loss: 0.8159\n",
            "Epoch 16/50\n",
            "42/42 [==============================] - 5s 111ms/step - loss: 0.8055 - val_loss: 0.8088\n",
            "Epoch 17/50\n",
            "42/42 [==============================] - 5s 111ms/step - loss: 0.7946 - val_loss: 0.8054\n",
            "Epoch 18/50\n",
            "42/42 [==============================] - 5s 111ms/step - loss: 0.7850 - val_loss: 0.7972\n",
            "Epoch 19/50\n",
            "42/42 [==============================] - 5s 110ms/step - loss: 0.7757 - val_loss: 0.7936\n",
            "Epoch 20/50\n",
            "42/42 [==============================] - 5s 111ms/step - loss: 0.7680 - val_loss: 0.7905\n",
            "Epoch 21/50\n",
            "42/42 [==============================] - 5s 112ms/step - loss: 0.7602 - val_loss: 0.7863\n",
            "Epoch 22/50\n",
            "42/42 [==============================] - 5s 113ms/step - loss: 0.7532 - val_loss: 0.7847\n",
            "Epoch 23/50\n",
            "42/42 [==============================] - 5s 111ms/step - loss: 0.7463 - val_loss: 0.7809\n",
            "Epoch 24/50\n",
            "42/42 [==============================] - 5s 112ms/step - loss: 0.7406 - val_loss: 0.7779\n",
            "Epoch 25/50\n",
            "42/42 [==============================] - 5s 110ms/step - loss: 0.7364 - val_loss: 0.7760\n",
            "Epoch 26/50\n",
            "42/42 [==============================] - 5s 110ms/step - loss: 0.7309 - val_loss: 0.7763\n",
            "Epoch 27/50\n",
            "42/42 [==============================] - 5s 111ms/step - loss: 0.7261 - val_loss: 0.7737\n",
            "Epoch 28/50\n",
            "42/42 [==============================] - 5s 110ms/step - loss: 0.7217 - val_loss: 0.7714\n",
            "Epoch 29/50\n",
            "42/42 [==============================] - 5s 113ms/step - loss: 0.7178 - val_loss: 0.7698\n",
            "Epoch 30/50\n",
            "42/42 [==============================] - 5s 112ms/step - loss: 0.7146 - val_loss: 0.7706\n",
            "Epoch 31/50\n",
            "42/42 [==============================] - 5s 111ms/step - loss: 0.7115 - val_loss: 0.7700\n",
            "Epoch 32/50\n",
            "42/42 [==============================] - 5s 110ms/step - loss: 0.7084 - val_loss: 0.7703\n"
          ],
          "name": "stdout"
        }
      ]
    },
    {
      "cell_type": "code",
      "metadata": {
        "id": "4Q9H_ZCbFKaN",
        "colab": {
          "base_uri": "https://localhost:8080/",
          "height": 35
        },
        "outputId": "0af04ada-bcb1-4869-c836-e1122a43f4f9"
      },
      "source": [
        "\"\"\"\n",
        "Utilizing generate_prot function to generate peptide sequences from AR model.\n",
        "\"\"\"\n",
        "\n",
        "print(generate_prot(model2, start_string=\"B\", Temperature=1))"
      ],
      "execution_count": null,
      "outputs": [
        {
          "output_type": "stream",
          "text": [
            "KLFSAPFLVLILL\n"
          ],
          "name": "stdout"
        }
      ]
    },
    {
      "cell_type": "markdown",
      "metadata": {
        "id": "T-qO2zXjcCUa"
      },
      "source": [
        "## **Data comparison**\n",
        "comparison to the paper \"Recurrent Neural Network Model for Constructive Peptide Design\""
      ]
    },
    {
      "cell_type": "code",
      "metadata": {
        "id": "sgIzZd13YG1j"
      },
      "source": [
        "\"\"\"\n",
        "Calculating ratio of valid sequences (those that are not included in training data and don't include 'B' residue).\n",
        "50 generations from 4 temperatures from both RNN and AR models are compared.\n",
        "\"\"\"\n",
        "\n",
        "def IsValid(seq):\n",
        "   for i in seq:\n",
        "      if i=='B':\n",
        "          return False\n",
        "   if seq in sequences:\n",
        "      return False\n",
        "   return True \n",
        "\n",
        "T=[0.75, 1, 1.25, 1.5]\n",
        "RNNs = []\n",
        "ARs = []\n",
        "for i in range(len(T)):\n",
        "    a=[]\n",
        "    b=[]\n",
        "    for j in range(50):\n",
        "        a.append(generate_prot(Genmodel, start_string='B', Temperature = T[i]))\n",
        "        b.append(generate_prot(model2, start_string='B', Temperature = T[i]))\n",
        "    RNNs.append(a)\n",
        "    ARs.append(b)\n",
        "\n"
      ],
      "execution_count": null,
      "outputs": []
    },
    {
      "cell_type": "code",
      "metadata": {
        "id": "WFGzKC4Ukt2q",
        "colab": {
          "base_uri": "https://localhost:8080/",
          "height": 71
        },
        "outputId": "6b045f4d-b68d-4098-8646-9815992a4058"
      },
      "source": [
        "RNNCount=[]\n",
        "ARCount=[]\n",
        "for i in range(len(T)):\n",
        "    c=0\n",
        "    d=0\n",
        "    for j in range(50):\n",
        "        if IsValid(RNNs[i][j])==1:\n",
        "           c+=1\n",
        "        if IsValid(ARs[i][j])==1:\n",
        "           d+=1\n",
        "    RNNCount.append((c/50))\n",
        "    ARCount.append((d/50))\n",
        "print(\"  Temperature         0.75   1   1.25  1.5\")\n",
        "print(\"Ratio for RNN model\", RNNCount)\n",
        "print(\"Ratio for AR  model\", ARCount)"
      ],
      "execution_count": null,
      "outputs": [
        {
          "output_type": "stream",
          "text": [
            "  Temperature         0.75   1   1.25  1.5\n",
            "Ratio for RNN model [0.88, 0.94, 0.88, 0.82]\n",
            "Ratio for AR  model [1.0, 0.98, 0.96, 0.96]\n"
          ],
          "name": "stdout"
        }
      ]
    },
    {
      "cell_type": "code",
      "metadata": {
        "id": "joVtfXKv1qHU"
      },
      "source": [
        "\"\"\"\n",
        "From the results, we can estimate temperature of 1 to be an adequate value.\n",
        "200 valid sequences are generated from both RNN and AR model and p(AMP) probability\n",
        "is calculated at http://www.camp3.bicnirrh.res.in/predict/.\n",
        "\"\"\"\n",
        "\n",
        "R=[]\n",
        "A=[]\n",
        "for i in range(250):\n",
        "    e = generate_prot(Genmodel, start_string='B', Temperature = 1)\n",
        "    if IsValid(e)==1:\n",
        "        R.append(e)\n",
        "    e = generate_prot(model2, start_string='B', Temperature = 1)\n",
        "    if IsValid(e)==1:\n",
        "        A.append(e)\n",
        "R=R[:200]\n",
        "A=A[:200]\n"
      ],
      "execution_count": null,
      "outputs": []
    },
    {
      "cell_type": "code",
      "metadata": {
        "id": "1wkIcZyr5LvL"
      },
      "source": [
        "\"\"\"\n",
        "Preparing fasta file for uploading.\n",
        "\"\"\"\n",
        "\n",
        "f = open('RNNFASTA.fasta', 'w')\n",
        "for i in range(200):\n",
        "    f.write(\">seq%d\\n\" % i)\n",
        "    f.write(R[i])\n",
        "    f.write(\"\\n\")\n",
        "f.close()\n",
        "\n",
        "g = open('ARFASTA.fasta', 'w')\n",
        "for i in range(200):\n",
        "    g.write(\">seq%d\\n\" % i)\n",
        "    g.write(A[i])\n",
        "    g.write(\"\\n\")\n",
        "g.close()"
      ],
      "execution_count": null,
      "outputs": []
    },
    {
      "cell_type": "code",
      "metadata": {
        "id": "1-M9FuqI45ED",
        "colab": {
          "base_uri": "https://localhost:8080/",
          "height": 354
        },
        "outputId": "8510a0fc-48f6-47fc-a439-5d86e63c8675"
      },
      "source": [
        "\"\"\"\n",
        "Load p(AMP) values (RNNResult.csv, ARResult.csv).\n",
        "violin plots are drawn for visualization of the results.\n",
        "\"\"\"\n",
        "\n",
        "f=open('RNNResult.csv','r')\n",
        "RNNResults=[]\n",
        "for i in f:\n",
        "    RNNResults.append(float(i.strip()))\n",
        "f.close()\n",
        "import matplotlib.pyplot as plt\n",
        "\n",
        "\n",
        "## combine these different collections into a list\n",
        "data_to_plot = RNNResults\n",
        "\n",
        "# Create a figure instance\n",
        "fig = plt.figure()\n",
        "\n",
        "# Create an axes instance\n",
        "ax = fig.add_axes([0,0,1,1])\n",
        "\n",
        "# Create the boxplot\n",
        "bp = ax.violinplot(data_to_plot)\n",
        "print(\"results for RNN model\")\n",
        "plt.show()"
      ],
      "execution_count": null,
      "outputs": [
        {
          "output_type": "stream",
          "text": [
            "results for RNN model\n"
          ],
          "name": "stdout"
        },
        {
          "output_type": "display_data",
          "data": {
            "image/png": "[encoded data removed]",
            "text/plain": [
              "<Figure size 432x288 with 1 Axes>"
            ]
          },
          "metadata": {
            "tags": [],
            "needs_background": "light"
          }
        }
      ]
    },
    {
      "cell_type": "code",
      "metadata": {
        "id": "MLFRMhZQ9GTx",
        "colab": {
          "base_uri": "https://localhost:8080/",
          "height": 354
        },
        "outputId": "1cdc149f-3cbe-414c-91d3-b7f55d01df78"
      },
      "source": [
        "g=open('ARResult.csv','r')\n",
        "ARResults=[]\n",
        "for i in g:\n",
        "    ARResults.append(float(i.strip()))\n",
        "g.close()\n",
        "import matplotlib.pyplot as plt\n",
        "\n",
        "\n",
        "## combine these different collections into a list\n",
        "data_to_plot = ARResults\n",
        "\n",
        "# Create a figure instance\n",
        "fig = plt.figure()\n",
        "\n",
        "# Create an axes instance\n",
        "ax = fig.add_axes([0,0,1,1])\n",
        "\n",
        "# Create the boxplot\n",
        "bp = ax.violinplot(data_to_plot)\n",
        "print(\"results for AR model\")\n",
        "plt.show()"
      ],
      "execution_count": null,
      "outputs": [
        {
          "output_type": "stream",
          "text": [
            "results for AR model\n"
          ],
          "name": "stdout"
        },
        {
          "output_type": "display_data",
          "data": {
            "image/png": "[encoded data removed]",
            "text/plain": [
              "<Figure size 432x288 with 1 Axes>"
            ]
          },
          "metadata": {
            "tags": [],
            "needs_background": "light"
          }
        }
      ]
    },
    {
      "cell_type": "code",
      "metadata": {
        "id": "ZhC_2_qL_7aO"
      },
      "source": [],
      "execution_count": null,
      "outputs": []
    }
  ]
}